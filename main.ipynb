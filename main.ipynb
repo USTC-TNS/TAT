{
 "cells": [
  {
   "cell_type": "code",
   "execution_count": 1,
   "metadata": {},
   "outputs": [
    {
     "data": {
      "text/plain": []
     },
     "execution_count": 1,
     "metadata": {},
     "output_type": "execute_result"
    }
   ],
   "source": [
    ".L tensor.hpp"
   ]
  },
  {
   "cell_type": "code",
   "execution_count": 2,
   "metadata": {},
   "outputs": [
    {
     "data": {
      "text/plain": []
     },
     "execution_count": 2,
     "metadata": {},
     "output_type": "execute_result"
    }
   ],
   "source": [
    "using T = Node::Tensor<Node::Device::CPU>;"
   ]
  },
  {
   "cell_type": "code",
   "execution_count": 10,
   "metadata": {},
   "outputs": [
    {
     "name": "stdout",
     "output_type": "stream",
     "text": [
      "Left, Down, Right, Up, \n",
      "4, 2, 5, 3, \n"
     ]
    },
    {
     "data": {
      "text/plain": []
     },
     "execution_count": 10,
     "metadata": {},
     "output_type": "execute_result"
    }
   ],
   "source": [
    "{ //test shuffle\n",
    "    int stream=0;\n",
    "    T a(4, {2,3,4,5}, {Down, Up, Left, Right});\n",
    "    T b;\n",
    "    a.shuffle_to(b, {Left,Down,Right,Up}, stream);\n",
    "    for(auto i : b.legs)\n",
    "    {\n",
    "        std::cout << i << \", \";\n",
    "    }\n",
    "    std::cout << std::endl;\n",
    "    for(auto i : b.dims)\n",
    "    {\n",
    "        std::cout << i << \", \";\n",
    "    }\n",
    "    std::cout << std::endl;\n",
    "}"
   ]
  },
  {
   "cell_type": "code",
   "execution_count": null,
   "metadata": {},
   "outputs": [],
   "source": []
  }
 ],
 "metadata": {
  "kernelspec": {
   "display_name": "C++17",
   "language": "C++",
   "name": "cling-cpp17"
  },
  "language_info": {
   "codemirror_mode": "c++",
   "file_extension": ".c++",
   "mimetype": "text/x-c++src",
   "name": "c++"
  }
 },
 "nbformat": 4,
 "nbformat_minor": 2
}
